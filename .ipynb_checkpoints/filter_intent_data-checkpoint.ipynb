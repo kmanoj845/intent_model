{
 "cells": [
  {
   "cell_type": "markdown",
   "metadata": {},
   "source": [
    "## 1. Load the test dataset"
   ]
  },
  {
   "cell_type": "markdown",
   "metadata": {},
   "source": [
    "To run this notebook, you will need to install: pandas, openai, transformers, plotly, matplotlib, scikit-learn, torch (transformer dep), torchvision, and scipy."
   ]
  },
  {
   "cell_type": "code",
   "execution_count": 1,
   "metadata": {},
   "outputs": [],
   "source": [
    "# imports\n",
    "import pandas as pd\n",
    "import numpy as np\n",
    "import tiktoken\n",
    "from openai.embeddings_utils import get_embedding"
   ]
  },
  {
   "cell_type": "code",
   "execution_count": 2,
   "metadata": {},
   "outputs": [],
   "source": [
    "# embedding model parameters\n",
    "embedding_model = \"text-embedding-ada-002\"\n",
    "embedding_encoding = \"cl100k_base\"  # this the encoding for text-embedding-ada-002\n",
    "max_tokens = 8000  # the maximum for text-embedding-ada-002 is 8191"
   ]
  },
  {
   "cell_type": "code",
   "execution_count": 15,
   "metadata": {},
   "outputs": [],
   "source": [
    "input_datapath = \"data/v6_v7.csv\"  # to save space, we provide a pre-filtered dataset\n",
    "df = pd.read_csv(input_datapath, index_col=0)\n",
    "df.reset_index(inplace=True)\n",
    "df = df.dropna()"
   ]
  },
  {
   "cell_type": "code",
   "execution_count": 16,
   "metadata": {},
   "outputs": [
    {
     "name": "stdout",
     "output_type": "stream",
     "text": [
      "Categories of samples:\n",
      "\n",
      " p2p_transfer    28\n",
      "unknown         15\n",
      "Name: intent, dtype: int64\n"
     ]
    },
    {
     "data": {
      "text/html": [
       "<div>\n",
       "<style scoped>\n",
       "    .dataframe tbody tr th:only-of-type {\n",
       "        vertical-align: middle;\n",
       "    }\n",
       "\n",
       "    .dataframe tbody tr th {\n",
       "        vertical-align: top;\n",
       "    }\n",
       "\n",
       "    .dataframe thead th {\n",
       "        text-align: right;\n",
       "    }\n",
       "</style>\n",
       "<table border=\"1\" class=\"dataframe\">\n",
       "  <thead>\n",
       "    <tr style=\"text-align: right;\">\n",
       "      <th></th>\n",
       "      <th>Text</th>\n",
       "      <th>intent</th>\n",
       "    </tr>\n",
       "  </thead>\n",
       "  <tbody>\n",
       "    <tr>\n",
       "      <th>0</th>\n",
       "      <td>abuse the cooperative bank limited</td>\n",
       "      <td>unknown</td>\n",
       "    </tr>\n",
       "    <tr>\n",
       "      <th>1</th>\n",
       "      <td>ajanta urban cooperative bank limited</td>\n",
       "      <td>unknown</td>\n",
       "    </tr>\n",
       "    <tr>\n",
       "      <th>2</th>\n",
       "      <td>1 rupees</td>\n",
       "      <td>unknown</td>\n",
       "    </tr>\n",
       "    <tr>\n",
       "      <th>3</th>\n",
       "      <td>1 rupees</td>\n",
       "      <td>unknown</td>\n",
       "    </tr>\n",
       "    <tr>\n",
       "      <th>4</th>\n",
       "      <td>i want to transfer 1 upi</td>\n",
       "      <td>p2p_transfer</td>\n",
       "    </tr>\n",
       "  </tbody>\n",
       "</table>\n",
       "</div>"
      ],
      "text/plain": [
       "                                    Text        intent\n",
       "0     abuse the cooperative bank limited       unknown\n",
       "1  ajanta urban cooperative bank limited       unknown\n",
       "2                               1 rupees       unknown\n",
       "3                               1 rupees       unknown\n",
       "4               i want to transfer 1 upi  p2p_transfer"
      ]
     },
     "execution_count": 16,
     "metadata": {},
     "output_type": "execute_result"
    }
   ],
   "source": [
    "categories = sorted(df[\"intent\"].unique())\n",
    "print(\"Categories of samples:\\n\\n\", df[\"intent\"].value_counts())\n",
    "df.head()"
   ]
  },
  {
   "cell_type": "code",
   "execution_count": 17,
   "metadata": {},
   "outputs": [
    {
     "data": {
      "text/plain": [
       "(43, 2)"
      ]
     },
     "execution_count": 17,
     "metadata": {},
     "output_type": "execute_result"
    }
   ],
   "source": [
    "df.shape"
   ]
  },
  {
   "cell_type": "markdown",
   "metadata": {},
   "source": [
    "## 2. Get test data embeddings and save them for future reuse"
   ]
  },
  {
   "cell_type": "code",
   "execution_count": 18,
   "metadata": {},
   "outputs": [
    {
     "name": "stdout",
     "output_type": "stream",
     "text": [
      "(43, 3)\n",
      "                                    Text        intent  \\\n",
      "0     abuse the cooperative bank limited       unknown   \n",
      "1  ajanta urban cooperative bank limited       unknown   \n",
      "2                               1 rupees       unknown   \n",
      "3                               1 rupees       unknown   \n",
      "4               i want to transfer 1 upi  p2p_transfer   \n",
      "\n",
      "                                           embedding  \n",
      "0  [-0.03387915715575218, -0.023782817646861076, ...  \n",
      "1  [-0.015351150184869766, -0.019030826166272163,...  \n",
      "2  [0.025440862402319908, -0.008647721260786057, ...  \n",
      "3  [0.02538367174565792, -0.00863778218626976, -0...  \n",
      "4  [-0.007308583706617355, -0.010682852938771248,...  \n"
     ]
    }
   ],
   "source": [
    "# Ensure you have your API key set in your environment per the README: https://github.com/openai/openai-python#usage\n",
    "from config import API_KEY \n",
    "import openai\n",
    "import config\n",
    "openai.api_key = API_KEY\n",
    "\n",
    "# This may take a few minutes\n",
    "# uncomment to get embeddings\n",
    "# df[\"embedding\"] = df.Text.apply(lambda x: get_embedding(x, engine=embedding_model))\n",
    "\n",
    "print(df.shape)\n",
    "print(df.head())"
   ]
  },
  {
   "cell_type": "code",
   "execution_count": 19,
   "metadata": {},
   "outputs": [],
   "source": [
    "df.to_csv(\"data/v6_v7_embeddings_v1.csv\")"
   ]
  },
  {
   "cell_type": "code",
   "execution_count": 28,
   "metadata": {},
   "outputs": [],
   "source": [
    "input_datapath = \"data/v6_v7_embeddings_v1.csv\"\n",
    "df = pd.read_csv(input_datapath, index_col=0)"
   ]
  },
  {
   "cell_type": "markdown",
   "metadata": {},
   "source": [
    "## Load the saved model and make predictions"
   ]
  },
  {
   "cell_type": "code",
   "execution_count": 29,
   "metadata": {},
   "outputs": [],
   "source": [
    "from joblib import load\n",
    "pipe = load('sc_pca_rf.joblib')"
   ]
  },
  {
   "cell_type": "code",
   "execution_count": 30,
   "metadata": {},
   "outputs": [
    {
     "data": {
      "text/html": [
       "<div>\n",
       "<style scoped>\n",
       "    .dataframe tbody tr th:only-of-type {\n",
       "        vertical-align: middle;\n",
       "    }\n",
       "\n",
       "    .dataframe tbody tr th {\n",
       "        vertical-align: top;\n",
       "    }\n",
       "\n",
       "    .dataframe thead th {\n",
       "        text-align: right;\n",
       "    }\n",
       "</style>\n",
       "<table border=\"1\" class=\"dataframe\">\n",
       "  <thead>\n",
       "    <tr style=\"text-align: right;\">\n",
       "      <th></th>\n",
       "      <th>Text</th>\n",
       "      <th>intent</th>\n",
       "      <th>embedding</th>\n",
       "    </tr>\n",
       "  </thead>\n",
       "  <tbody>\n",
       "    <tr>\n",
       "      <th>0</th>\n",
       "      <td>abuse the cooperative bank limited</td>\n",
       "      <td>unknown</td>\n",
       "      <td>[-0.03387915715575218, -0.023782817646861076, ...</td>\n",
       "    </tr>\n",
       "    <tr>\n",
       "      <th>1</th>\n",
       "      <td>ajanta urban cooperative bank limited</td>\n",
       "      <td>unknown</td>\n",
       "      <td>[-0.015351150184869766, -0.019030826166272163,...</td>\n",
       "    </tr>\n",
       "    <tr>\n",
       "      <th>2</th>\n",
       "      <td>1 rupees</td>\n",
       "      <td>unknown</td>\n",
       "      <td>[0.025440862402319908, -0.008647721260786057, ...</td>\n",
       "    </tr>\n",
       "    <tr>\n",
       "      <th>3</th>\n",
       "      <td>1 rupees</td>\n",
       "      <td>unknown</td>\n",
       "      <td>[0.02538367174565792, -0.00863778218626976, -0...</td>\n",
       "    </tr>\n",
       "    <tr>\n",
       "      <th>4</th>\n",
       "      <td>i want to transfer 1 upi</td>\n",
       "      <td>p2p_transfer</td>\n",
       "      <td>[-0.007308583706617355, -0.010682852938771248,...</td>\n",
       "    </tr>\n",
       "  </tbody>\n",
       "</table>\n",
       "</div>"
      ],
      "text/plain": [
       "                                    Text        intent  \\\n",
       "0     abuse the cooperative bank limited       unknown   \n",
       "1  ajanta urban cooperative bank limited       unknown   \n",
       "2                               1 rupees       unknown   \n",
       "3                               1 rupees       unknown   \n",
       "4               i want to transfer 1 upi  p2p_transfer   \n",
       "\n",
       "                                           embedding  \n",
       "0  [-0.03387915715575218, -0.023782817646861076, ...  \n",
       "1  [-0.015351150184869766, -0.019030826166272163,...  \n",
       "2  [0.025440862402319908, -0.008647721260786057, ...  \n",
       "3  [0.02538367174565792, -0.00863778218626976, -0...  \n",
       "4  [-0.007308583706617355, -0.010682852938771248,...  "
      ]
     },
     "execution_count": 30,
     "metadata": {},
     "output_type": "execute_result"
    }
   ],
   "source": [
    "test_df = df.copy()\n",
    "test_df.head()"
   ]
  },
  {
   "cell_type": "code",
   "execution_count": 31,
   "metadata": {},
   "outputs": [
    {
     "data": {
      "text/plain": [
       "array([-0.03387916, -0.02378282,  0.01589917, ..., -0.01452906,\n",
       "        0.00098912, -0.01093892])"
      ]
     },
     "execution_count": 31,
     "metadata": {},
     "output_type": "execute_result"
    }
   ],
   "source": [
    "embedding_matrix = np.array(test_df.embedding.apply(eval).to_list())\n",
    "embedding_matrix[0]"
   ]
  },
  {
   "cell_type": "code",
   "execution_count": 33,
   "metadata": {},
   "outputs": [
    {
     "data": {
      "text/html": [
       "<div>\n",
       "<style scoped>\n",
       "    .dataframe tbody tr th:only-of-type {\n",
       "        vertical-align: middle;\n",
       "    }\n",
       "\n",
       "    .dataframe tbody tr th {\n",
       "        vertical-align: top;\n",
       "    }\n",
       "\n",
       "    .dataframe thead th {\n",
       "        text-align: right;\n",
       "    }\n",
       "</style>\n",
       "<table border=\"1\" class=\"dataframe\">\n",
       "  <thead>\n",
       "    <tr style=\"text-align: right;\">\n",
       "      <th></th>\n",
       "      <th>Text</th>\n",
       "      <th>intent</th>\n",
       "      <th>embedding</th>\n",
       "      <th>pred</th>\n",
       "    </tr>\n",
       "  </thead>\n",
       "  <tbody>\n",
       "    <tr>\n",
       "      <th>0</th>\n",
       "      <td>abuse the cooperative bank limited</td>\n",
       "      <td>unknown</td>\n",
       "      <td>[-0.03387915715575218, -0.023782817646861076, ...</td>\n",
       "      <td>unknown</td>\n",
       "    </tr>\n",
       "    <tr>\n",
       "      <th>1</th>\n",
       "      <td>ajanta urban cooperative bank limited</td>\n",
       "      <td>unknown</td>\n",
       "      <td>[-0.015351150184869766, -0.019030826166272163,...</td>\n",
       "      <td>unknown</td>\n",
       "    </tr>\n",
       "    <tr>\n",
       "      <th>2</th>\n",
       "      <td>1 rupees</td>\n",
       "      <td>unknown</td>\n",
       "      <td>[0.025440862402319908, -0.008647721260786057, ...</td>\n",
       "      <td>unknown</td>\n",
       "    </tr>\n",
       "    <tr>\n",
       "      <th>3</th>\n",
       "      <td>1 rupees</td>\n",
       "      <td>unknown</td>\n",
       "      <td>[0.02538367174565792, -0.00863778218626976, -0...</td>\n",
       "      <td>unknown</td>\n",
       "    </tr>\n",
       "    <tr>\n",
       "      <th>4</th>\n",
       "      <td>i want to transfer 1 upi</td>\n",
       "      <td>p2p_transfer</td>\n",
       "      <td>[-0.007308583706617355, -0.010682852938771248,...</td>\n",
       "      <td>p2p_transfer</td>\n",
       "    </tr>\n",
       "  </tbody>\n",
       "</table>\n",
       "</div>"
      ],
      "text/plain": [
       "                                    Text        intent  \\\n",
       "0     abuse the cooperative bank limited       unknown   \n",
       "1  ajanta urban cooperative bank limited       unknown   \n",
       "2                               1 rupees       unknown   \n",
       "3                               1 rupees       unknown   \n",
       "4               i want to transfer 1 upi  p2p_transfer   \n",
       "\n",
       "                                           embedding          pred  \n",
       "0  [-0.03387915715575218, -0.023782817646861076, ...       unknown  \n",
       "1  [-0.015351150184869766, -0.019030826166272163,...       unknown  \n",
       "2  [0.025440862402319908, -0.008647721260786057, ...       unknown  \n",
       "3  [0.02538367174565792, -0.00863778218626976, -0...       unknown  \n",
       "4  [-0.007308583706617355, -0.010682852938771248,...  p2p_transfer  "
      ]
     },
     "metadata": {},
     "output_type": "display_data"
    }
   ],
   "source": [
    "predictions = pipe.predict(embedding_matrix)\n",
    "test_df[\"pred\"] = predictions\n",
    "display(test_df.head())"
   ]
  },
  {
   "cell_type": "code",
   "execution_count": 34,
   "metadata": {},
   "outputs": [
    {
     "data": {
      "text/plain": [
       "(17, 4)"
      ]
     },
     "execution_count": 34,
     "metadata": {},
     "output_type": "execute_result"
    }
   ],
   "source": [
    "test_df.loc[test_df.intent != test_df.pred].shape"
   ]
  },
  {
   "cell_type": "code",
   "execution_count": 35,
   "metadata": {},
   "outputs": [
    {
     "data": {
      "text/plain": [
       "array(['balance_check', 'bpcl', 'electricity_payment', 'emi_collect_full',\n",
       "       'emi_collect_partial', 'fastag_recharge', 'gas_payment',\n",
       "       'insurance_renewal', 'mobile_recharge_postpaid',\n",
       "       'mobile_recharge_prepaid', 'p2p_transfer', 'unknown',\n",
       "       'upi_creation'], dtype=object)"
      ]
     },
     "execution_count": 35,
     "metadata": {},
     "output_type": "execute_result"
    }
   ],
   "source": [
    "prob = pipe.predict_proba(embedding_matrix)\n",
    "pipe.classes_"
   ]
  },
  {
   "cell_type": "code",
   "execution_count": 36,
   "metadata": {},
   "outputs": [],
   "source": [
    "prob_classes = {'max_prob':[], 'prob1':[], 'prob2':[]}\n",
    "for ele in prob:\n",
    "    lst = ([(tup[0], tup[1]) for tup in zip(ele, pipe.classes_)])\n",
    "    sorted_lst = sorted(lst, key=lambda x: x[0], reverse=True)\n",
    "    prob_classes['max_prob'].append(sorted_lst[0][0])\n",
    "    prob_classes['prob1'].append(sorted_lst[0])\n",
    "    prob_classes['prob2'].append(sorted_lst[1])"
   ]
  },
  {
   "cell_type": "code",
   "execution_count": 37,
   "metadata": {},
   "outputs": [
    {
     "data": {
      "text/plain": [
       "(43, 7)"
      ]
     },
     "execution_count": 37,
     "metadata": {},
     "output_type": "execute_result"
    }
   ],
   "source": [
    "for key in prob_classes:\n",
    "    test_df[key] = prob_classes[key]\n",
    "test_df.shape"
   ]
  },
  {
   "cell_type": "code",
   "execution_count": 38,
   "metadata": {},
   "outputs": [
    {
     "data": {
      "text/plain": [
       "(3, 7)"
      ]
     },
     "execution_count": 38,
     "metadata": {},
     "output_type": "execute_result"
    }
   ],
   "source": [
    "(test_df.loc[test_df.max_prob > 0.7]).shape"
   ]
  },
  {
   "cell_type": "code",
   "execution_count": 46,
   "metadata": {},
   "outputs": [],
   "source": [
    "# test_df.tail()\n",
    "# test_df.loc[test_df.intent != test_df.pred]"
   ]
  },
  {
   "cell_type": "code",
   "execution_count": 48,
   "metadata": {},
   "outputs": [
    {
     "data": {
      "text/html": [
       "<div>\n",
       "<style scoped>\n",
       "    .dataframe tbody tr th:only-of-type {\n",
       "        vertical-align: middle;\n",
       "    }\n",
       "\n",
       "    .dataframe tbody tr th {\n",
       "        vertical-align: top;\n",
       "    }\n",
       "\n",
       "    .dataframe thead th {\n",
       "        text-align: right;\n",
       "    }\n",
       "</style>\n",
       "<table border=\"1\" class=\"dataframe\">\n",
       "  <thead>\n",
       "    <tr style=\"text-align: right;\">\n",
       "      <th></th>\n",
       "      <th>Text</th>\n",
       "      <th>intent</th>\n",
       "      <th>pred</th>\n",
       "      <th>max_prob</th>\n",
       "      <th>prob1</th>\n",
       "      <th>prob2</th>\n",
       "    </tr>\n",
       "  </thead>\n",
       "  <tbody>\n",
       "    <tr>\n",
       "      <th>12</th>\n",
       "      <td>money transfer</td>\n",
       "      <td>p2p_transfer</td>\n",
       "      <td>p2p_transfer</td>\n",
       "      <td>0.85</td>\n",
       "      <td>(0.85, p2p_transfer)</td>\n",
       "      <td>(0.03, unknown)</td>\n",
       "    </tr>\n",
       "    <tr>\n",
       "      <th>14</th>\n",
       "      <td>9 7 3 00 8 7 8 7 1 1 rupees</td>\n",
       "      <td>unknown</td>\n",
       "      <td>unknown</td>\n",
       "      <td>0.52</td>\n",
       "      <td>(0.52, unknown)</td>\n",
       "      <td>(0.12, mobile_recharge_prepaid)</td>\n",
       "    </tr>\n",
       "    <tr>\n",
       "      <th>18</th>\n",
       "      <td>do money transfer</td>\n",
       "      <td>p2p_transfer</td>\n",
       "      <td>p2p_transfer</td>\n",
       "      <td>0.70</td>\n",
       "      <td>(0.7, p2p_transfer)</td>\n",
       "      <td>(0.11, unknown)</td>\n",
       "    </tr>\n",
       "    <tr>\n",
       "      <th>20</th>\n",
       "      <td>money transfer</td>\n",
       "      <td>p2p_transfer</td>\n",
       "      <td>p2p_transfer</td>\n",
       "      <td>0.85</td>\n",
       "      <td>(0.85, p2p_transfer)</td>\n",
       "      <td>(0.03, unknown)</td>\n",
       "    </tr>\n",
       "    <tr>\n",
       "      <th>24</th>\n",
       "      <td>money transfer post</td>\n",
       "      <td>p2p_transfer</td>\n",
       "      <td>p2p_transfer</td>\n",
       "      <td>0.57</td>\n",
       "      <td>(0.57, p2p_transfer)</td>\n",
       "      <td>(0.12, balance_check)</td>\n",
       "    </tr>\n",
       "    <tr>\n",
       "      <th>25</th>\n",
       "      <td>money transfer</td>\n",
       "      <td>p2p_transfer</td>\n",
       "      <td>p2p_transfer</td>\n",
       "      <td>0.85</td>\n",
       "      <td>(0.85, p2p_transfer)</td>\n",
       "      <td>(0.03, unknown)</td>\n",
       "    </tr>\n",
       "  </tbody>\n",
       "</table>\n",
       "</div>"
      ],
      "text/plain": [
       "                           Text        intent          pred  max_prob  \\\n",
       "12               money transfer  p2p_transfer  p2p_transfer      0.85   \n",
       "14  9 7 3 00 8 7 8 7 1 1 rupees       unknown       unknown      0.52   \n",
       "18            do money transfer  p2p_transfer  p2p_transfer      0.70   \n",
       "20               money transfer  p2p_transfer  p2p_transfer      0.85   \n",
       "24          money transfer post  p2p_transfer  p2p_transfer      0.57   \n",
       "25               money transfer  p2p_transfer  p2p_transfer      0.85   \n",
       "\n",
       "                   prob1                            prob2  \n",
       "12  (0.85, p2p_transfer)                  (0.03, unknown)  \n",
       "14       (0.52, unknown)  (0.12, mobile_recharge_prepaid)  \n",
       "18   (0.7, p2p_transfer)                  (0.11, unknown)  \n",
       "20  (0.85, p2p_transfer)                  (0.03, unknown)  \n",
       "24  (0.57, p2p_transfer)            (0.12, balance_check)  \n",
       "25  (0.85, p2p_transfer)                  (0.03, unknown)  "
      ]
     },
     "execution_count": 48,
     "metadata": {},
     "output_type": "execute_result"
    }
   ],
   "source": [
    "# test_df.drop('embedding', axis=1).loc[test_df.intent == test_df.pred]\n",
    "test_df.drop('embedding', axis=1).loc[(test_df.max_prob > 0.50)&(test_df.intent == test_df.pred)]"
   ]
  }
 ],
 "metadata": {
  "kernelspec": {
   "display_name": "Python 3 (ipykernel)",
   "language": "python",
   "name": "python3"
  },
  "language_info": {
   "codemirror_mode": {
    "name": "ipython",
    "version": 3
   },
   "file_extension": ".py",
   "mimetype": "text/x-python",
   "name": "python",
   "nbconvert_exporter": "python",
   "pygments_lexer": "ipython3",
   "version": "3.10.11"
  },
  "vscode": {
   "interpreter": {
    "hash": "365536dcbde60510dc9073d6b991cd35db2d9bac356a11f5b64279a5e6708b97"
   }
  }
 },
 "nbformat": 4,
 "nbformat_minor": 4
}
