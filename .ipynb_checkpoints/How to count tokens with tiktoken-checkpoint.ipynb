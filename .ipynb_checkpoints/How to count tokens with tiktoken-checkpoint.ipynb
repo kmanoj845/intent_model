{
 "cells": [
  {
   "cell_type": "code",
   "execution_count": 1,
   "id": "70f960f9",
   "metadata": {},
   "outputs": [
    {
     "ename": "ModuleNotFoundError",
     "evalue": "No module named 'tiktoken'",
     "output_type": "error",
     "traceback": [
      "\u001b[1;31m---------------------------------------------------------------------------\u001b[0m",
      "\u001b[1;31mModuleNotFoundError\u001b[0m                       Traceback (most recent call last)",
      "\u001b[1;32m~\\AppData\\Local\\Temp\\ipykernel_10348\\2310238316.py\u001b[0m in \u001b[0;36m<module>\u001b[1;34m\u001b[0m\n\u001b[1;32m----> 1\u001b[1;33m \u001b[1;32mimport\u001b[0m \u001b[0mtiktoken\u001b[0m\u001b[1;33m\u001b[0m\u001b[1;33m\u001b[0m\u001b[0m\n\u001b[0m",
      "\u001b[1;31mModuleNotFoundError\u001b[0m: No module named 'tiktoken'"
     ]
    }
   ],
   "source": [
    "import tiktoken"
   ]
  },
  {
   "cell_type": "code",
   "execution_count": 2,
   "id": "e3b09eff",
   "metadata": {},
   "outputs": [],
   "source": [
    "encoding = tiktoken.get_encoding(\"cl100k_base\")"
   ]
  },
  {
   "cell_type": "code",
   "execution_count": 3,
   "id": "db1c5f5f",
   "metadata": {},
   "outputs": [],
   "source": [
    "encoding = tiktoken.encoding_for_model(\"gpt-3.5-turbo\")"
   ]
  },
  {
   "cell_type": "code",
   "execution_count": 4,
   "id": "cfaf2a8e",
   "metadata": {},
   "outputs": [
    {
     "data": {
      "text/plain": [
       "[83, 1609, 5963, 374, 2294, 0]"
      ]
     },
     "execution_count": 4,
     "metadata": {},
     "output_type": "execute_result"
    }
   ],
   "source": [
    "encoding.encode(\"tiktoken is great!\")"
   ]
  },
  {
   "cell_type": "code",
   "execution_count": 5,
   "id": "bc14ba59",
   "metadata": {},
   "outputs": [
    {
     "data": {
      "text/plain": [
       "6"
      ]
     },
     "execution_count": 5,
     "metadata": {},
     "output_type": "execute_result"
    }
   ],
   "source": [
    "def num_tokens_from_string(string: str, encoding_name: str) -> int:\n",
    "    \"\"\"Returns the number of tokens in a text string.\"\"\"\n",
    "    encoding = tiktoken.get_encoding(encoding_name)\n",
    "    num_tokens = len(encoding.encode(string))\n",
    "    return num_tokens\n",
    "num_tokens_from_string(\"tiktoken is great!\", \"cl100k_base\")"
   ]
  },
  {
   "cell_type": "code",
   "execution_count": 6,
   "id": "a15ea731",
   "metadata": {},
   "outputs": [
    {
     "data": {
      "text/plain": [
       "'tiktoken is great!'"
      ]
     },
     "execution_count": 6,
     "metadata": {},
     "output_type": "execute_result"
    }
   ],
   "source": [
    "encoding.decode([83, 1609, 5963, 374, 2294, 0])"
   ]
  },
  {
   "cell_type": "code",
   "execution_count": 8,
   "id": "8ebc6aed",
   "metadata": {},
   "outputs": [
    {
     "data": {
      "text/plain": [
       "[b't', b'ik', b'token', b' is', b' great', b'!']"
      ]
     },
     "execution_count": 8,
     "metadata": {},
     "output_type": "execute_result"
    }
   ],
   "source": [
    "[encoding.decode_single_token_bytes(token) for token in [83, 1609, 5963, 374, 2294, 0]]"
   ]
  },
  {
   "cell_type": "markdown",
   "id": "33c49b22",
   "metadata": {},
   "source": [
    "# Comparing encodings"
   ]
  },
  {
   "cell_type": "code",
   "execution_count": 9,
   "id": "8887845c",
   "metadata": {},
   "outputs": [],
   "source": [
    "def compare_encodings(example_string: str) -> None:\n",
    "    \"\"\"Prints a comparison of three string encodings.\"\"\"\n",
    "    # print the example string\n",
    "    print(f'\\nExample string: \"{example_string}\"')\n",
    "    # for each encoding, print the # of tokens, the token integers, and the token bytes\n",
    "    for encoding_name in [\"gpt2\", \"p50k_base\", \"cl100k_base\"]:\n",
    "        encoding = tiktoken.get_encoding(encoding_name)\n",
    "        token_integers = encoding.encode(example_string)\n",
    "        num_tokens = len(token_integers)\n",
    "        token_bytes = [encoding.decode_single_token_bytes(token) for token in token_integers]\n",
    "        print()\n",
    "        print(f\"{encoding_name}: {num_tokens} tokens\")\n",
    "        print(f\"token integers: {token_integers}\")\n",
    "        print(f\"token bytes: {token_bytes}\")"
   ]
  },
  {
   "cell_type": "code",
   "execution_count": 10,
   "id": "f1748a11",
   "metadata": {},
   "outputs": [
    {
     "name": "stdout",
     "output_type": "stream",
     "text": [
      "\n",
      "Example string: \"antidisestablishmentarianism\"\n",
      "\n",
      "gpt2: 5 tokens\n",
      "token integers: [415, 29207, 44390, 3699, 1042]\n",
      "token bytes: [b'ant', b'idis', b'establishment', b'arian', b'ism']\n",
      "\n",
      "p50k_base: 5 tokens\n",
      "token integers: [415, 29207, 44390, 3699, 1042]\n",
      "token bytes: [b'ant', b'idis', b'establishment', b'arian', b'ism']\n",
      "\n",
      "cl100k_base: 6 tokens\n",
      "token integers: [519, 85342, 34500, 479, 8997, 2191]\n",
      "token bytes: [b'ant', b'idis', b'establish', b'ment', b'arian', b'ism']\n"
     ]
    }
   ],
   "source": [
    "compare_encodings(\"antidisestablishmentarianism\")"
   ]
  },
  {
   "cell_type": "code",
   "execution_count": 11,
   "id": "5a202d61",
   "metadata": {},
   "outputs": [
    {
     "name": "stdout",
     "output_type": "stream",
     "text": [
      "\n",
      "Example string: \"2 + 2 = 4\"\n",
      "\n",
      "gpt2: 5 tokens\n",
      "token integers: [17, 1343, 362, 796, 604]\n",
      "token bytes: [b'2', b' +', b' 2', b' =', b' 4']\n",
      "\n",
      "p50k_base: 5 tokens\n",
      "token integers: [17, 1343, 362, 796, 604]\n",
      "token bytes: [b'2', b' +', b' 2', b' =', b' 4']\n",
      "\n",
      "cl100k_base: 7 tokens\n",
      "token integers: [17, 489, 220, 17, 284, 220, 19]\n",
      "token bytes: [b'2', b' +', b' ', b'2', b' =', b' ', b'4']\n"
     ]
    }
   ],
   "source": [
    "compare_encodings(\"2 + 2 = 4\")"
   ]
  },
  {
   "cell_type": "code",
   "execution_count": 12,
   "id": "9c491f7f",
   "metadata": {},
   "outputs": [
    {
     "name": "stdout",
     "output_type": "stream",
     "text": [
      "\n",
      "Example string: \"किसी के अकाउंट में पैसे भेजने की जरूरत है।\"\n",
      "\n",
      "gpt2: 67 tokens\n",
      "token integers: [11976, 243, 11976, 123, 11976, 116, 24231, 222, 28225, 243, 24231, 229, 28225, 227, 11976, 243, 48077, 11976, 231, 11976, 224, 11976, 253, 28225, 106, 24231, 229, 11976, 224, 28225, 103, 24231, 230, 11976, 116, 24231, 229, 28225, 255, 24231, 229, 11976, 250, 11976, 101, 24231, 229, 28225, 243, 24231, 222, 28225, 250, 11976, 108, 24231, 224, 11976, 108, 11976, 97, 28225, 117, 24231, 230, 24231, 97]\n",
      "token bytes: [b'\\xe0\\xa4', b'\\x95', b'\\xe0\\xa4', b'\\xbf', b'\\xe0\\xa4', b'\\xb8', b'\\xe0\\xa5', b'\\x80', b' \\xe0\\xa4', b'\\x95', b'\\xe0\\xa5', b'\\x87', b' \\xe0\\xa4', b'\\x85', b'\\xe0\\xa4', b'\\x95', b'\\xe0\\xa4\\xbe', b'\\xe0\\xa4', b'\\x89', b'\\xe0\\xa4', b'\\x82', b'\\xe0\\xa4', b'\\x9f', b' \\xe0\\xa4', b'\\xae', b'\\xe0\\xa5', b'\\x87', b'\\xe0\\xa4', b'\\x82', b' \\xe0\\xa4', b'\\xaa', b'\\xe0\\xa5', b'\\x88', b'\\xe0\\xa4', b'\\xb8', b'\\xe0\\xa5', b'\\x87', b' \\xe0\\xa4', b'\\xad', b'\\xe0\\xa5', b'\\x87', b'\\xe0\\xa4', b'\\x9c', b'\\xe0\\xa4', b'\\xa8', b'\\xe0\\xa5', b'\\x87', b' \\xe0\\xa4', b'\\x95', b'\\xe0\\xa5', b'\\x80', b' \\xe0\\xa4', b'\\x9c', b'\\xe0\\xa4', b'\\xb0', b'\\xe0\\xa5', b'\\x82', b'\\xe0\\xa4', b'\\xb0', b'\\xe0\\xa4', b'\\xa4', b' \\xe0\\xa4', b'\\xb9', b'\\xe0\\xa5', b'\\x88', b'\\xe0\\xa5', b'\\xa4']\n",
      "\n",
      "p50k_base: 67 tokens\n",
      "token integers: [11976, 243, 11976, 123, 11976, 116, 24231, 222, 28225, 243, 24231, 229, 28225, 227, 11976, 243, 48077, 11976, 231, 11976, 224, 11976, 253, 28225, 106, 24231, 229, 11976, 224, 28225, 103, 24231, 230, 11976, 116, 24231, 229, 28225, 255, 24231, 229, 11976, 250, 11976, 101, 24231, 229, 28225, 243, 24231, 222, 28225, 250, 11976, 108, 24231, 224, 11976, 108, 11976, 97, 28225, 117, 24231, 230, 24231, 97]\n",
      "token bytes: [b'\\xe0\\xa4', b'\\x95', b'\\xe0\\xa4', b'\\xbf', b'\\xe0\\xa4', b'\\xb8', b'\\xe0\\xa5', b'\\x80', b' \\xe0\\xa4', b'\\x95', b'\\xe0\\xa5', b'\\x87', b' \\xe0\\xa4', b'\\x85', b'\\xe0\\xa4', b'\\x95', b'\\xe0\\xa4\\xbe', b'\\xe0\\xa4', b'\\x89', b'\\xe0\\xa4', b'\\x82', b'\\xe0\\xa4', b'\\x9f', b' \\xe0\\xa4', b'\\xae', b'\\xe0\\xa5', b'\\x87', b'\\xe0\\xa4', b'\\x82', b' \\xe0\\xa4', b'\\xaa', b'\\xe0\\xa5', b'\\x88', b'\\xe0\\xa4', b'\\xb8', b'\\xe0\\xa5', b'\\x87', b' \\xe0\\xa4', b'\\xad', b'\\xe0\\xa5', b'\\x87', b'\\xe0\\xa4', b'\\x9c', b'\\xe0\\xa4', b'\\xa8', b'\\xe0\\xa5', b'\\x87', b' \\xe0\\xa4', b'\\x95', b'\\xe0\\xa5', b'\\x80', b' \\xe0\\xa4', b'\\x9c', b'\\xe0\\xa4', b'\\xb0', b'\\xe0\\xa5', b'\\x82', b'\\xe0\\xa4', b'\\xb0', b'\\xe0\\xa4', b'\\xa4', b' \\xe0\\xa4', b'\\xb9', b'\\xe0\\xa5', b'\\x88', b'\\xe0\\xa5', b'\\xa4']\n",
      "\n",
      "cl100k_base: 42 tokens\n",
      "token integers: [65804, 43411, 116, 44747, 48909, 35470, 15272, 227, 65804, 32511, 231, 73414, 5619, 253, 92317, 55884, 224, 84736, 12906, 230, 79468, 35470, 15272, 255, 55884, 250, 61196, 35470, 48909, 44747, 15272, 250, 45279, 12906, 224, 45279, 80338, 85410, 12906, 230, 12906, 97]\n",
      "token bytes: [b'\\xe0\\xa4\\x95', b'\\xe0\\xa4\\xbf\\xe0\\xa4', b'\\xb8', b'\\xe0\\xa5\\x80', b' \\xe0\\xa4\\x95', b'\\xe0\\xa5\\x87', b' \\xe0\\xa4', b'\\x85', b'\\xe0\\xa4\\x95', b'\\xe0\\xa4\\xbe\\xe0\\xa4', b'\\x89', b'\\xe0\\xa4\\x82', b'\\xe0\\xa4', b'\\x9f', b' \\xe0\\xa4\\xae', b'\\xe0\\xa5\\x87\\xe0\\xa4', b'\\x82', b' \\xe0\\xa4\\xaa', b'\\xe0\\xa5', b'\\x88', b'\\xe0\\xa4\\xb8', b'\\xe0\\xa5\\x87', b' \\xe0\\xa4', b'\\xad', b'\\xe0\\xa5\\x87\\xe0\\xa4', b'\\x9c', b'\\xe0\\xa4\\xa8', b'\\xe0\\xa5\\x87', b' \\xe0\\xa4\\x95', b'\\xe0\\xa5\\x80', b' \\xe0\\xa4', b'\\x9c', b'\\xe0\\xa4\\xb0', b'\\xe0\\xa5', b'\\x82', b'\\xe0\\xa4\\xb0', b'\\xe0\\xa4\\xa4', b' \\xe0\\xa4\\xb9', b'\\xe0\\xa5', b'\\x88', b'\\xe0\\xa5', b'\\xa4']\n"
     ]
    }
   ],
   "source": [
    "compare_encodings(\"किसी के अकाउंट में पैसे भेजने की जरूरत है।\")"
   ]
  },
  {
   "cell_type": "markdown",
   "id": "5cf28ee2",
   "metadata": {},
   "source": [
    "# Counting tokens for chat API calls"
   ]
  },
  {
   "cell_type": "code",
   "execution_count": 14,
   "id": "a92270bb",
   "metadata": {},
   "outputs": [],
   "source": [
    "def num_tokens_from_messages(messages, model=\"gpt-3.5-turbo-0301\"):\n",
    "    \"\"\"Returns the number of tokens used by a list of messages.\"\"\"\n",
    "    try:\n",
    "        encoding = tiktoken.encoding_for_model(model)\n",
    "    except KeyError:\n",
    "        print(\"Warning: model not found. Using cl100k_base encoding.\")\n",
    "        encoding = tiktoken.get_encoding(\"cl100k_base\")\n",
    "    if model == \"gpt-3.5-turbo\":\n",
    "        print(\"Warning: gpt-3.5-turbo may change over time. Returning num tokens assuming gpt-3.5-turbo-0301.\")\n",
    "        return num_tokens_from_messages(messages, model=\"gpt-3.5-turbo-0301\")\n",
    "    elif model == \"gpt-4\":\n",
    "        print(\"Warning: gpt-4 may change over time. Returning num tokens assuming gpt-4-0314.\")\n",
    "        return num_tokens_from_messages(messages, model=\"gpt-4-0314\")\n",
    "    elif model == \"gpt-3.5-turbo-0301\":\n",
    "        tokens_per_message = 4  # every message follows <|start|>{role/name}\\n{content}<|end|>\\n\n",
    "        tokens_per_name = -1  # if there's a name, the role is omitted\n",
    "    elif model == \"gpt-4-0314\":\n",
    "        tokens_per_message = 3\n",
    "        tokens_per_name = 1\n",
    "    else:\n",
    "        raise NotImplementedError(f\"\"\"num_tokens_from_messages() is not implemented for model {model}. See https://github.com/openai/openai-python/blob/main/chatml.md for information on how messages are converted to tokens.\"\"\")\n",
    "    num_tokens = 0\n",
    "    for message in messages:\n",
    "        num_tokens += tokens_per_message\n",
    "        for key, value in message.items():\n",
    "            num_tokens += len(encoding.encode(value))\n",
    "            if key == \"name\":\n",
    "                num_tokens += tokens_per_name\n",
    "    num_tokens += 3  # every reply is primed with <|start|>assistant<|message|>\n",
    "    return num_tokens"
   ]
  },
  {
   "cell_type": "code",
   "execution_count": 19,
   "id": "e9d6bc63",
   "metadata": {},
   "outputs": [
    {
     "name": "stdout",
     "output_type": "stream",
     "text": [
      "gpt-3.5-turbo-0301\n",
      "127 prompt tokens counted by num_tokens_from_messages().\n",
      "127 prompt tokens counted by the OpenAI API.\n",
      "\n",
      "gpt-3.5-turbo-0301\n",
      "127 prompt tokens counted by num_tokens_from_messages().\n",
      "127 prompt tokens counted by the OpenAI API.\n",
      "\n"
     ]
    }
   ],
   "source": [
    "import openai\n",
    "from config import API_KEY\n",
    "openai.api_key  = API_KEY\n",
    "\n",
    "example_messages = [\n",
    "    {\n",
    "        \"role\": \"system\",\n",
    "        \"content\": \"You are a helpful, pattern-following assistant that translates corporate jargon into plain English.\",\n",
    "    },\n",
    "    {\n",
    "        \"role\": \"system\",\n",
    "        \"name\": \"example_user\",\n",
    "        \"content\": \"New synergies will help drive top-line growth.\",\n",
    "    },\n",
    "    {\n",
    "        \"role\": \"system\",\n",
    "        \"name\": \"example_assistant\",\n",
    "        \"content\": \"Things working well together will increase revenue.\",\n",
    "    },\n",
    "    {\n",
    "        \"role\": \"system\",\n",
    "        \"name\": \"example_user\",\n",
    "        \"content\": \"Let's circle back when we have more bandwidth to touch base on opportunities for increased leverage.\",\n",
    "    },\n",
    "    {\n",
    "        \"role\": \"system\",\n",
    "        \"name\": \"example_assistant\",\n",
    "        \"content\": \"Let's talk later when we're less busy about how to do better.\",\n",
    "    },\n",
    "    {\n",
    "        \"role\": \"user\",\n",
    "        \"content\": \"This late pivot means we don't have time to boil the ocean for the client deliverable.\",\n",
    "    },\n",
    "]\n",
    "\n",
    "for model in [\"gpt-3.5-turbo-0301\", \"gpt-3.5-turbo-0301\"]:\n",
    "    print(model)\n",
    "    # example token count from the function defined above\n",
    "    print(f\"{num_tokens_from_messages(example_messages, model)} prompt tokens counted by num_tokens_from_messages().\")\n",
    "    # example token count from the OpenAI API\n",
    "    response = openai.ChatCompletion.create(\n",
    "        model=model,\n",
    "        messages=example_messages,\n",
    "        temperature=0,\n",
    "        max_tokens=1  # we're only counting input tokens here, so let's not waste tokens on the output\n",
    "    )\n",
    "    print(f'{response[\"usage\"][\"prompt_tokens\"]} prompt tokens counted by the OpenAI API.')\n",
    "    print()"
   ]
  }
 ],
 "metadata": {
  "kernelspec": {
   "display_name": "Python 3 (ipykernel)",
   "language": "python",
   "name": "python3"
  },
  "language_info": {
   "codemirror_mode": {
    "name": "ipython",
    "version": 3
   },
   "file_extension": ".py",
   "mimetype": "text/x-python",
   "name": "python",
   "nbconvert_exporter": "python",
   "pygments_lexer": "ipython3",
   "version": "3.9.13"
  }
 },
 "nbformat": 4,
 "nbformat_minor": 5
}
